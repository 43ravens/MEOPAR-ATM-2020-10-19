{
 "cells": [
  {
   "cell_type": "markdown",
   "metadata": {
    "slideshow": {
     "slide_type": "slide"
    }
   },
   "source": [
    "# Python: f-strings and Q&A\n",
    "\n",
    "## MEOPAR ATM 2020-10-19\n",
    "\n",
    "Doug Latornell, UBC and 43ravens\n",
    "\n",
    "[doug.latornell@43ravens.ca](mailto:doug.latornell@43ravens.ca)\n",
    "\n",
    "Twitter: [@dlatornell](https://twitter.com/dlatornell)"
   ]
  },
  {
   "cell_type": "markdown",
   "metadata": {
    "slideshow": {
     "slide_type": "slide"
    }
   },
   "source": [
    "## Learning Goals\n",
    "\n",
    "* Explain what a Python f-string is\n",
    "* Write f-strings\n",
    "* Use f-strings as an aid to debug Python code\n",
    "* Format variable values in f-strings\n",
    "* Use f-strings to compose structured file paths/names"
   ]
  },
  {
   "cell_type": "markdown",
   "metadata": {
    "slideshow": {
     "slide_type": "slide"
    }
   },
   "source": [
    "## Combining Words and Variable Values in Strings"
   ]
  },
  {
   "cell_type": "markdown",
   "metadata": {
    "slideshow": {
     "slide_type": "fragment"
    }
   },
   "source": [
    "String concatenation with a plus-sign seems like the simplest thing that might work:"
   ]
  },
  {
   "cell_type": "code",
   "execution_count": null,
   "metadata": {
    "slideshow": {
     "slide_type": "fragment"
    }
   },
   "outputs": [],
   "source": [
    "name = \"Doug\"\n",
    "print(\"Hello \" + name)"
   ]
  },
  {
   "cell_type": "markdown",
   "metadata": {
    "slideshow": {
     "slide_type": "fragment"
    }
   },
   "source": [
    "Now, try it with a number:"
   ]
  },
  {
   "cell_type": "code",
   "execution_count": null,
   "metadata": {
    "slideshow": {
     "slide_type": "fragment"
    }
   },
   "outputs": [],
   "source": [
    "a = 43\n",
    "print(\"The value of a is \" + a)"
   ]
  },
  {
   "cell_type": "markdown",
   "metadata": {
    "slideshow": {
     "slide_type": "slide"
    }
   },
   "source": [
    "Various solutions to that problem:"
   ]
  },
  {
   "cell_type": "code",
   "execution_count": null,
   "metadata": {
    "slideshow": {
     "slide_type": "fragment"
    }
   },
   "outputs": [],
   "source": [
    "print(\"The value of a is \" + str(a))"
   ]
  },
  {
   "cell_type": "code",
   "execution_count": null,
   "metadata": {
    "slideshow": {
     "slide_type": "fragment"
    }
   },
   "outputs": [],
   "source": [
    "print(\"The value of a is %s\" % a)"
   ]
  },
  {
   "cell_type": "code",
   "execution_count": null,
   "metadata": {
    "slideshow": {
     "slide_type": "fragment"
    }
   },
   "outputs": [],
   "source": [
    "print(\"The value of a is {a}\".format(a=a))"
   ]
  },
  {
   "cell_type": "markdown",
   "metadata": {
    "slideshow": {
     "slide_type": "fragment"
    }
   },
   "source": [
    "Python 3.6 brought a better way..."
   ]
  },
  {
   "cell_type": "markdown",
   "metadata": {
    "slideshow": {
     "slide_type": "slide"
    }
   },
   "source": [
    "## \"Formatted String Literals\" or f-strings"
   ]
  },
  {
   "cell_type": "code",
   "execution_count": null,
   "metadata": {
    "slideshow": {
     "slide_type": "fragment"
    }
   },
   "outputs": [],
   "source": [
    "print(f\"Hello {name}\")"
   ]
  },
  {
   "cell_type": "markdown",
   "metadata": {
    "slideshow": {
     "slide_type": "fragment"
    }
   },
   "source": [
    "* Put an `f` (lowercase or uppercase, your choice) in front of the opening quote of the string\n",
    "* Enclose variable names in braces (`{}`)"
   ]
  },
  {
   "cell_type": "markdown",
   "metadata": {
    "slideshow": {
     "slide_type": "notes"
    }
   },
   "source": [
    "## Live-coding..."
   ]
  },
  {
   "cell_type": "code",
   "execution_count": null,
   "metadata": {
    "slideshow": {
     "slide_type": "fragment"
    }
   },
   "outputs": [],
   "source": [
    "print(f\"The value of a is {a}\")"
   ]
  },
  {
   "cell_type": "code",
   "execution_count": null,
   "metadata": {
    "slideshow": {
     "slide_type": "notes"
    }
   },
   "outputs": [],
   "source": [
    "a = 43\n",
    "b = 71\n",
    "print(f\"a + b = {a + b}\")"
   ]
  },
  {
   "cell_type": "markdown",
   "metadata": {
    "slideshow": {
     "slide_type": "notes"
    }
   },
   "source": [
    "## Slides..."
   ]
  },
  {
   "cell_type": "markdown",
   "metadata": {
    "slideshow": {
     "slide_type": "slide"
    }
   },
   "source": [
    "## Learning Goals\n",
    "\n",
    "* ✅ Explain what a Python f-string is\n",
    "* ✅ Write f-strings\n",
    "* Use f-strings as an aid to debug Python code\n",
    "* Format variable values in f-strings\n",
    "* Use f-strings to compose structured file paths/names"
   ]
  },
  {
   "cell_type": "markdown",
   "metadata": {
    "slideshow": {
     "slide_type": "slide"
    }
   },
   "source": [
    "## f-strings and Debugging\n",
    "\n",
    "* A basic technique for debugging code in any language is to add print statements to\n",
    "  the code to trace its execution and show values of variables\n",
    "* Sometimes all you need is `print(\"here\")` to tell you that a particular piece of code\n",
    "  is being executed\n",
    "* Sometimes you want to see the value of a variable: `print(f\"var={var}\")`"
   ]
  },
  {
   "cell_type": "markdown",
   "metadata": {
    "slideshow": {
     "slide_type": "notes"
    }
   },
   "source": [
    "## Live-coding..."
   ]
  },
  {
   "cell_type": "markdown",
   "metadata": {
    "slideshow": {
     "slide_type": "notes"
    }
   },
   "source": [
    "Imagine that we have an ocean model that includes heat transfer between the ocean\n",
    "and the atmosphere.\n",
    "We notice in our model output that the ocean temperature doesn't seem to be changing\n",
    "as quickly as we expect:\n",
    "it doesn't warm up in the summer, nor cool down in the winter.\n",
    "After some tracing through the code with `print()` statements to help us figure out\n",
    "what is going on,\n",
    "we reach a function that calculates the radiative component of the heat flux between\n",
    "the atmosphere and the ocean.\n",
    "A really simple version of that function might be:"
   ]
  },
  {
   "cell_type": "code",
   "execution_count": null,
   "metadata": {
    "slideshow": {
     "slide_type": "notes"
    }
   },
   "outputs": [],
   "source": [
    "def calc_rad_flux(temp_atmos, temp_ocean):\n",
    "    # Stefan-Boltzmann constant [W m^2 K^-4]\n",
    "    sigma = 5.670_374_419e-8\n",
    "    rad_flux = sigma * (temp_atmos**4 - temp_ocean**4)\n",
    "    return rad_flux"
   ]
  },
  {
   "cell_type": "code",
   "execution_count": null,
   "metadata": {
    "slideshow": {
     "slide_type": "notes"
    }
   },
   "outputs": [],
   "source": [
    "temp_atmos = 25.2\n",
    "temp_ocean = 10.1"
   ]
  },
  {
   "cell_type": "code",
   "execution_count": null,
   "metadata": {
    "slideshow": {
     "slide_type": "notes"
    }
   },
   "outputs": [],
   "source": [
    "rad_flux = calc_rad_flux(temp_atmos, temp_ocean)\n",
    "print(f\"rad_flux = {rad_flux}\")"
   ]
  },
  {
   "cell_type": "markdown",
   "metadata": {
    "slideshow": {
     "slide_type": "notes"
    }
   },
   "source": [
    "Add debugging print statements to see the values of atmosphere and ocean\n",
    "temperatures that are actually being used to calculate the flux:"
   ]
  },
  {
   "cell_type": "code",
   "execution_count": null,
   "metadata": {
    "slideshow": {
     "slide_type": "notes"
    }
   },
   "outputs": [],
   "source": [
    "def calc_rad_flux(temp_atmos, temp_ocean):\n",
    "    # Stefan-Boltzmann constant [W m^2 K^-4]\n",
    "    sigma = 5.670_374_419e-8\n",
    "    print(f\"temp_atmos = {temp_atmos}\")\n",
    "    print(f\"temp_ocean = {temp_ocean}\")\n",
    "    rad_flux = sigma * (temp_atmos**4 - temp_ocean**4)\n",
    "    return rad_flux"
   ]
  },
  {
   "cell_type": "code",
   "execution_count": null,
   "metadata": {
    "slideshow": {
     "slide_type": "notes"
    }
   },
   "outputs": [],
   "source": [
    "rad_flux = calc_rad_flux(temp_atmos, temp_ocean)\n",
    "print(f\"rad_flux = {rad_flux}\")"
   ]
  },
  {
   "cell_type": "markdown",
   "metadata": {
    "slideshow": {
     "slide_type": "notes"
    }
   },
   "source": [
    "And then it dawns on us:\n",
    "The temperatures have to be in Kelvin, not Celcius!\n",
    "So,\n",
    "fix the bug by adding 273.15 to the temperatures"
   ]
  },
  {
   "cell_type": "code",
   "execution_count": null,
   "metadata": {
    "slideshow": {
     "slide_type": "notes"
    }
   },
   "outputs": [],
   "source": [
    "def calc_rad_flux(temp_atmos, temp_ocean):\n",
    "    # Stefan-Boltzmann constant [W m^2 K^-4]\n",
    "    sigma = 5.670_374_419e-8\n",
    "    rad_flux = sigma * ((temp_atmos + 273.15)**4 - (temp_ocean + 273.15)**4)\n",
    "    return rad_flux"
   ]
  },
  {
   "cell_type": "code",
   "execution_count": null,
   "metadata": {
    "slideshow": {
     "slide_type": "notes"
    }
   },
   "outputs": [],
   "source": [
    "rad_flux = calc_rad_flux(temp_atmos, temp_ocean)\n",
    "print(f\"rad_flux = {rad_flux}\")"
   ]
  },
  {
   "cell_type": "markdown",
   "metadata": {
    "slideshow": {
     "slide_type": "notes"
    }
   },
   "source": [
    "The pattern of showing a variable name and its value is so common that Python 3.8\n",
    "added it as a new feature of f-strings - just put an equals sign (`=`) after the variable name:"
   ]
  },
  {
   "cell_type": "code",
   "execution_count": null,
   "metadata": {
    "slideshow": {
     "slide_type": "notes"
    }
   },
   "outputs": [],
   "source": [
    "print(f\"{a=}\")\n",
    "print(f\"{a = }\")"
   ]
  },
  {
   "cell_type": "markdown",
   "metadata": {
    "slideshow": {
     "slide_type": "notes"
    }
   },
   "source": [
    "## Slides..."
   ]
  },
  {
   "cell_type": "markdown",
   "metadata": {
    "slideshow": {
     "slide_type": "slide"
    }
   },
   "source": [
    "Add `print()` statements to show variable names and their values to help understand code:"
   ]
  },
  {
   "cell_type": "code",
   "execution_count": null,
   "metadata": {
    "slideshow": {
     "slide_type": "fragment"
    }
   },
   "outputs": [],
   "source": [
    "temp_in = 15.2\n",
    "print(f\"temp_atmos = {temp_atmos}\")"
   ]
  },
  {
   "cell_type": "markdown",
   "metadata": {
    "slideshow": {
     "slide_type": "fragment"
    }
   },
   "source": [
    "or, in Python>=3.8:"
   ]
  },
  {
   "cell_type": "code",
   "execution_count": null,
   "metadata": {
    "slideshow": {
     "slide_type": "fragment"
    }
   },
   "outputs": [],
   "source": [
    "print(f\"{temp_atmos = }\")"
   ]
  },
  {
   "cell_type": "markdown",
   "metadata": {
    "slideshow": {
     "slide_type": "slide"
    }
   },
   "source": [
    "## Learning Goals\n",
    "\n",
    "* ✅ Explain what a Python f-string is\n",
    "* ✅ Write f-strings\n",
    "* ✅ Use f-strings as an aid to debug Python code\n",
    "* Format variable values in f-strings\n",
    "* Use f-strings to compose structured file paths/names"
   ]
  },
  {
   "cell_type": "markdown",
   "metadata": {
    "slideshow": {
     "slide_type": "slide"
    }
   },
   "source": [
    "## Format Variable Values in f-strings"
   ]
  },
  {
   "cell_type": "markdown",
   "metadata": {
    "slideshow": {
     "slide_type": "notes"
    }
   },
   "source": [
    "## Live-coding..."
   ]
  },
  {
   "cell_type": "code",
   "execution_count": null,
   "metadata": {
    "slideshow": {
     "slide_type": "notes"
    }
   },
   "outputs": [],
   "source": [
    "sigma = 5.670_374_419e-8"
   ]
  },
  {
   "cell_type": "code",
   "execution_count": null,
   "metadata": {
    "slideshow": {
     "slide_type": "notes"
    }
   },
   "outputs": [],
   "source": [
    "print(f\"{sigma = }\")"
   ]
  },
  {
   "cell_type": "code",
   "execution_count": null,
   "metadata": {
    "slideshow": {
     "slide_type": "notes"
    }
   },
   "outputs": [],
   "source": [
    "print(f\"{sigma = :f}\")"
   ]
  },
  {
   "cell_type": "code",
   "execution_count": null,
   "metadata": {
    "slideshow": {
     "slide_type": "notes"
    }
   },
   "outputs": [],
   "source": [
    "print(f\"{sigma = :0.20f}\")"
   ]
  },
  {
   "cell_type": "code",
   "execution_count": null,
   "metadata": {
    "slideshow": {
     "slide_type": "notes"
    }
   },
   "outputs": [],
   "source": [
    "print(f\"{sigma = :1.4e}\")"
   ]
  },
  {
   "cell_type": "code",
   "execution_count": null,
   "metadata": {
    "slideshow": {
     "slide_type": "notes"
    }
   },
   "outputs": [],
   "source": [
    "print(f\"{a=:0.3f}\")"
   ]
  },
  {
   "cell_type": "code",
   "execution_count": null,
   "metadata": {
    "slideshow": {
     "slide_type": "notes"
    }
   },
   "outputs": [],
   "source": [
    "print(f\"{a=:04d}\")"
   ]
  },
  {
   "cell_type": "markdown",
   "metadata": {
    "slideshow": {
     "slide_type": "notes"
    }
   },
   "source": [
    "## Slides..."
   ]
  },
  {
   "cell_type": "code",
   "execution_count": null,
   "metadata": {
    "slideshow": {
     "slide_type": "fragment"
    }
   },
   "outputs": [],
   "source": [
    "sigma = 5.670_374_419e-8\n",
    "\n",
    "print(f\"{sigma = :0.20f}\")\n",
    "\n",
    "print(f\"{sigma = :1.4e}\")\n",
    "\n",
    "print(f\"{a=:0.3f}\")\n",
    "\n",
    "print(f\"{a=:04d}\")"
   ]
  },
  {
   "cell_type": "markdown",
   "metadata": {
    "slideshow": {
     "slide_type": "fragment"
    }
   },
   "source": [
    "Format Specification Mini-Language:\n",
    "https://docs.python.org/3.8/library/string.html#formatspec"
   ]
  },
  {
   "cell_type": "markdown",
   "metadata": {
    "slideshow": {
     "slide_type": "slide"
    }
   },
   "source": [
    "## Learning Goals\n",
    "\n",
    "* ✅ Explain what a Python f-string is\n",
    "* ✅ Write f-strings\n",
    "* ✅ Use f-strings as an aid to debug Python code\n",
    "* ✅ Format variable values in f-strings\n",
    "* Use f-strings to compose structured file paths/names"
   ]
  },
  {
   "cell_type": "markdown",
   "metadata": {
    "slideshow": {
     "slide_type": "slide"
    }
   },
   "source": [
    "## Use f-strings to Compose Structured File Paths/Names\n",
    "\n",
    "Large volumes of data like model output and ocean observations (e.g. Argo floats)\n",
    "are often stored using structured file paths and/or names.\n",
    "Examples:\n",
    "\n",
    "* URL for ECCC HRDPS forecast file:\n",
    "\n",
    " https://dd.weather.gc.ca/model_hrdps/west/grib2/12/017/CMC_hrdps_west_APCP_SFC_0_ps2.5km_2020101812_P017-00.grib2\n",
    " \n",
    "* File path/name for UBC SalishSeaCast NEMO model output file:\n",
    "\n",
    "  `/results2/SalishSea/nowcast-green.201905/18oct20/SalishSea_1h_20201018_20201018_grid_T.nc`"
   ]
  },
  {
   "cell_type": "markdown",
   "metadata": {
    "slideshow": {
     "slide_type": "notes"
    }
   },
   "source": [
    "## Live-coding..."
   ]
  },
  {
   "cell_type": "code",
   "execution_count": null,
   "metadata": {
    "slideshow": {
     "slide_type": "notes"
    }
   },
   "outputs": [],
   "source": [
    "import datetime"
   ]
  },
  {
   "cell_type": "code",
   "execution_count": null,
   "metadata": {
    "slideshow": {
     "slide_type": "notes"
    }
   },
   "outputs": [],
   "source": [
    "day = datetime.date(2020, 10, 18)"
   ]
  },
  {
   "cell_type": "code",
   "execution_count": null,
   "metadata": {
    "slideshow": {
     "slide_type": "notes"
    }
   },
   "outputs": [],
   "source": [
    "print(f\"/results2/SalishSea/nowcast-green.201905/18oct20/SalishSea_1h_{day:%Y%m%d}_{day:%Y%m%d}_grid_T.nc\")"
   ]
  },
  {
   "cell_type": "code",
   "execution_count": null,
   "metadata": {
    "slideshow": {
     "slide_type": "notes"
    }
   },
   "outputs": [],
   "source": [
    "ddmmmyy = f\"{day:%d%b%y}\".lower()\n",
    "print(f\"/results2/SalishSea/nowcast-green.201905/{ddmmmyy}/SalishSea_1h_{day:%Y%m%d}_{day:%Y%m%d}_grid_T.nc\")"
   ]
  },
  {
   "cell_type": "code",
   "execution_count": null,
   "metadata": {
    "slideshow": {
     "slide_type": "notes"
    }
   },
   "outputs": [],
   "source": [
    "for day_num in range(1, 11):\n",
    "    day = datetime.date(2020, 10, day_num)\n",
    "    ddmmmyy = f\"{day:%d%b%y}\".lower()\n",
    "    grid_T_path = f\"/results2/SalishSea/nowcast-green.201905/{ddmmmyy}/SalishSea_1h_{day:%Y%m%d}_{day:%Y%m%d}_grid_T.nc\"\n",
    "    print(grid_T_path)"
   ]
  },
  {
   "cell_type": "code",
   "execution_count": null,
   "metadata": {
    "slideshow": {
     "slide_type": "notes"
    }
   },
   "outputs": [],
   "source": [
    "with xarray.open_dataset(grid_T_path) as grid_T:\n",
    "    print(grid_T.data_vars)"
   ]
  },
  {
   "cell_type": "markdown",
   "metadata": {
    "slideshow": {
     "slide_type": "notes"
    }
   },
   "source": [
    "## Slides..."
   ]
  },
  {
   "cell_type": "code",
   "execution_count": null,
   "metadata": {
    "slideshow": {
     "slide_type": "slide"
    }
   },
   "outputs": [],
   "source": [
    "for day_num in range(1, 11):\n",
    "    day = datetime.date(2020, 10, day_num)\n",
    "    ddmmmyy = f\"{day:%d%b%y}\".lower()\n",
    "    grid_T_path = f\"/results2/SalishSea/nowcast-green.201905/{ddmmmyy}/SalishSea_1h_{day:%Y%m%d}_{day:%Y%m%d}_grid_T.nc\"\n",
    "    print(grid_T_path)"
   ]
  },
  {
   "cell_type": "markdown",
   "metadata": {
    "slideshow": {
     "slide_type": "fragment"
    }
   },
   "source": [
    "Date/time formatting directives: https://docs.python.org/3/library/time.html#time.strftime"
   ]
  },
  {
   "cell_type": "markdown",
   "metadata": {
    "slideshow": {
     "slide_type": "notes"
    }
   },
   "source": [
    "## Live-coding..."
   ]
  },
  {
   "cell_type": "code",
   "execution_count": null,
   "metadata": {
    "slideshow": {
     "slide_type": "notes"
    }
   },
   "outputs": [],
   "source": [
    "hrdps_url = \"https://dd.weather.gc.ca/model_hrdps/west/grib2/12/017/CMC_hrdps_west_APCP_SFC_0_ps2.5km_2020101812_P017-00.grib2\""
   ]
  },
  {
   "cell_type": "code",
   "execution_count": null,
   "metadata": {
    "slideshow": {
     "slide_type": "notes"
    }
   },
   "outputs": [],
   "source": [
    "hrdps_gribs = \"https://dd.weather.gc.ca/model_hrdps/west/grib2\"\n",
    "forecast = 12\n",
    "hr = 17\n",
    "day = datetime.date(2020, 10, 18)\n",
    "var = \"APCP_SFC_0\"\n",
    "hrdps_url = f\"{hrdps_gribs}/{forecast}/{hr:03d}/CMC_hrdps_west_{var}_ps2.5km_{day:%y%m%d}{forecast}_P{hr:03d}-00.grib2\"\n",
    "print(hrdps_url)"
   ]
  },
  {
   "cell_type": "code",
   "execution_count": null,
   "metadata": {
    "slideshow": {
     "slide_type": "notes"
    }
   },
   "outputs": [],
   "source": [
    "hrdps_url_tmpl = \"{hrdps_gribs}/{forecast}/{hr:03d}/CMC_hrdps_west_{var}_ps2.5km_{day:%y%m%d}{forecast}_P{hr:03d}-00.grib2\"\n",
    "print(\n",
    "    hrdps_url_tmpl.format(\n",
    "        hrdps_gribs=hrdps_gribs, forecast=forecast, hr=hr, var=var, day=day))"
   ]
  },
  {
   "cell_type": "markdown",
   "metadata": {
    "slideshow": {
     "slide_type": "notes"
    }
   },
   "source": [
    "## Slides..."
   ]
  },
  {
   "cell_type": "code",
   "execution_count": null,
   "metadata": {
    "slideshow": {
     "slide_type": "slide"
    }
   },
   "outputs": [],
   "source": [
    "hrdps_gribs = \"https://dd.weather.gc.ca/model_hrdps/west/grib2\"\n",
    "forecast = 12\n",
    "hr = 17\n",
    "day = datetime.date(2020, 10, 18)\n",
    "var = \"APCP_SFC_0\"\n",
    "hrdps_url = f\"{hrdps_gribs}/{forecast}/{hr:03d}/CMC_hrdps_west_{var}_ps2.5km_{day:%y%m%d}{forecast}_P{hr:03d}-00.grib2\"\n",
    "print(hrdps_url)"
   ]
  },
  {
   "cell_type": "markdown",
   "metadata": {
    "slideshow": {
     "slide_type": "slide"
    }
   },
   "source": [
    "## Learning Goals\n",
    "\n",
    "* ✅ Explain what a Python f-string is\n",
    "* ✅ Write f-strings\n",
    "* ✅ Use f-strings as an aid to debug Python code\n",
    "* ✅ Format variable values in f-strings\n",
    "* ✅ Use f-strings to compose structured file paths/names"
   ]
  },
  {
   "cell_type": "markdown",
   "metadata": {
    "slideshow": {
     "slide_type": "slide"
    }
   },
   "source": [
    "Links about f-strings:\n",
    "* https://realpython.com/python-f-strings/\n",
    "* https://www.youtube.com/watch?v=kGd1TVfP_Ds\n",
    "* https://github.com/43ravens/MEOPAR-ATM-2020-10-19\n",
    "\n",
    "Questions?\n",
    "\n",
    "f-strings or other Python questions: All week in the \"Python Discussion\" topic (https://whova.com/portal/webapp/meopa_202009/CommunityBoard/topic/452273/) in the Community section on Whova"
   ]
  }
 ],
 "metadata": {
  "celltoolbar": "Slideshow",
  "kernelspec": {
   "display_name": "Python 3",
   "language": "python",
   "name": "python3"
  },
  "language_info": {
   "codemirror_mode": {
    "name": "ipython",
    "version": 3
   },
   "file_extension": ".py",
   "mimetype": "text/x-python",
   "name": "python",
   "nbconvert_exporter": "python",
   "pygments_lexer": "ipython3",
   "version": "3.8.6"
  }
 },
 "nbformat": 4,
 "nbformat_minor": 4
}
