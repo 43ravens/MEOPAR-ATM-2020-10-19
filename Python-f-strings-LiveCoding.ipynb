{
 "cells": [
  {
   "cell_type": "markdown",
   "metadata": {},
   "source": [
    "# Python: f-strings and Q&A\n",
    "\n",
    "## MEOPAR ATM 2020-10-19\n",
    "\n",
    "Doug Latornell, UBC and 43ravens\n",
    "\n",
    "[doug.latornell@43ravens.ca](mailto:doug.latornell@43ravens.ca)\n",
    "\n",
    "Twitter: [@dlatornell](https://twitter.com/dlatornell)"
   ]
  },
  {
   "cell_type": "markdown",
   "metadata": {},
   "source": [
    "## Live-coding Session"
   ]
  },
  {
   "cell_type": "code",
   "execution_count": null,
   "metadata": {},
   "outputs": [],
   "source": []
  }
 ],
 "metadata": {
  "kernelspec": {
   "display_name": "Python 3",
   "language": "python",
   "name": "python3"
  },
  "language_info": {
   "codemirror_mode": {
    "name": "ipython",
    "version": 3
   },
   "file_extension": ".py",
   "mimetype": "text/x-python",
   "name": "python",
   "nbconvert_exporter": "python",
   "pygments_lexer": "ipython3",
   "version": "3.8.6"
  }
 },
 "nbformat": 4,
 "nbformat_minor": 4
}
