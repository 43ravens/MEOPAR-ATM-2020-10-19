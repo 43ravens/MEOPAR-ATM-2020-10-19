{
 "cells": [
  {
   "cell_type": "markdown",
   "metadata": {},
   "source": [
    "# Python: f-strings and Q&A\n",
    "\n",
    "## MEOPAR ATM 2020-10-19\n",
    "\n",
    "Doug Latornell, UBC and 43ravens\n",
    "\n",
    "[doug.latornell@43ravens.ca](mailto:doug.latornell@43ravens.ca)\n",
    "\n",
    "Twitter: [@dlatornell](https://twitter.com/dlatornell)"
   ]
  },
  {
   "cell_type": "markdown",
   "metadata": {},
   "source": [
    "## Live-coding Session"
   ]
  },
  {
   "cell_type": "markdown",
   "metadata": {},
   "source": [
    "## Combining Words and Variable Values in Strings\n",
    "\n",
    "## \"Formatted String Literals\" or f-strings"
   ]
  },
  {
   "cell_type": "code",
   "execution_count": 3,
   "metadata": {},
   "outputs": [
    {
     "name": "stdout",
     "output_type": "stream",
     "text": [
      "Hello Doug\n"
     ]
    }
   ],
   "source": [
    "name = \"Doug\"\n",
    "print(f\"Hello {name}\")"
   ]
  },
  {
   "cell_type": "code",
   "execution_count": 5,
   "metadata": {},
   "outputs": [
    {
     "name": "stdout",
     "output_type": "stream",
     "text": [
      "The value of a is 43\n"
     ]
    }
   ],
   "source": [
    "a = 43\n",
    "print(f\"The value of a is {a}\")"
   ]
  },
  {
   "cell_type": "code",
   "execution_count": 6,
   "metadata": {},
   "outputs": [
    {
     "name": "stdout",
     "output_type": "stream",
     "text": [
      "a + b = 114\n"
     ]
    }
   ],
   "source": [
    "b = 71\n",
    "print(f\"a + b = {a + b}\")"
   ]
  },
  {
   "cell_type": "markdown",
   "metadata": {},
   "source": [
    "## f-string and Debugging"
   ]
  },
  {
   "cell_type": "code",
   "execution_count": 7,
   "metadata": {},
   "outputs": [],
   "source": [
    "def calc_rad_flux(temp_atmos, temp_ocean):\n",
    "    # Stefan-Boltzmann constat [W m^-2 K^-4]\n",
    "    sigma = 5.670_374_419e-8\n",
    "    rad_flux = sigma * (temp_atmos**4 - temp_ocean**4)\n",
    "    return rad_flux"
   ]
  },
  {
   "cell_type": "code",
   "execution_count": 8,
   "metadata": {},
   "outputs": [],
   "source": [
    "temp_atmos = 25.2\n",
    "temp_ocean = 10.1"
   ]
  },
  {
   "cell_type": "code",
   "execution_count": 10,
   "metadata": {},
   "outputs": [
    {
     "name": "stdout",
     "output_type": "stream",
     "text": [
      "rad_flux = 0.022277186456082308\n"
     ]
    }
   ],
   "source": [
    "rad_flux = calc_rad_flux(temp_atmos, temp_ocean)\n",
    "print(f\"rad_flux = {rad_flux}\")"
   ]
  },
  {
   "cell_type": "code",
   "execution_count": 11,
   "metadata": {},
   "outputs": [],
   "source": [
    "def calc_rad_flux(temp_atmos, temp_ocean):\n",
    "    # Stefan-Boltzmann constat [W m^-2 K^-4]\n",
    "    sigma = 5.670_374_419e-8\n",
    "    print(f\"temp_atmos = {temp_atmos}\")\n",
    "    print(f\"temp_ocean = {temp_ocean}\")\n",
    "    rad_flux = sigma * (temp_atmos**4 - temp_ocean**4)\n",
    "    return rad_flux"
   ]
  },
  {
   "cell_type": "code",
   "execution_count": 12,
   "metadata": {},
   "outputs": [
    {
     "name": "stdout",
     "output_type": "stream",
     "text": [
      "temp_atmos = 25.2\n",
      "temp_ocean = 10.1\n",
      "rad_flux = 0.022277186456082308\n"
     ]
    }
   ],
   "source": [
    "rad_flux = calc_rad_flux(temp_atmos, temp_ocean)\n",
    "print(f\"rad_flux = {rad_flux}\")"
   ]
  },
  {
   "cell_type": "code",
   "execution_count": 13,
   "metadata": {},
   "outputs": [],
   "source": [
    "def calc_rad_flux(temp_atmos, temp_ocean):\n",
    "    # Stefan-Boltzmann constat [W m^-2 K^-4]\n",
    "    sigma = 5.670_374_419e-8\n",
    "    rad_flux = sigma * ((temp_atmos + 273.015)**4 - (temp_ocean + 273.15)**4)\n",
    "    return rad_flux"
   ]
  },
  {
   "cell_type": "code",
   "execution_count": 14,
   "metadata": {},
   "outputs": [
    {
     "name": "stdout",
     "output_type": "stream",
     "text": [
      "rad_flux = 83.46737773455624\n"
     ]
    }
   ],
   "source": [
    "rad_flux = calc_rad_flux(temp_atmos, temp_ocean)\n",
    "print(f\"rad_flux = {rad_flux}\")"
   ]
  },
  {
   "cell_type": "code",
   "execution_count": 15,
   "metadata": {},
   "outputs": [
    {
     "name": "stdout",
     "output_type": "stream",
     "text": [
      "rad_flux=83.46737773455624\n"
     ]
    }
   ],
   "source": [
    "rad_flux = calc_rad_flux(temp_atmos, temp_ocean)\n",
    "print(f\"{rad_flux=}\")"
   ]
  },
  {
   "cell_type": "code",
   "execution_count": 16,
   "metadata": {},
   "outputs": [
    {
     "name": "stdout",
     "output_type": "stream",
     "text": [
      "rad_flux = 83.46737773455624\n"
     ]
    }
   ],
   "source": [
    "rad_flux = calc_rad_flux(temp_atmos, temp_ocean)\n",
    "print(f\"{rad_flux = }\")"
   ]
  },
  {
   "cell_type": "markdown",
   "metadata": {},
   "source": [
    "## Format Variable Values in f-strings"
   ]
  },
  {
   "cell_type": "code",
   "execution_count": 17,
   "metadata": {},
   "outputs": [],
   "source": [
    "sigma = 5.670_374_419e-8"
   ]
  },
  {
   "cell_type": "code",
   "execution_count": 18,
   "metadata": {},
   "outputs": [
    {
     "name": "stdout",
     "output_type": "stream",
     "text": [
      "sigma=5.670374419e-08\n"
     ]
    }
   ],
   "source": [
    "print(f\"{sigma=}\")"
   ]
  },
  {
   "cell_type": "code",
   "execution_count": 19,
   "metadata": {},
   "outputs": [
    {
     "name": "stdout",
     "output_type": "stream",
     "text": [
      "sigma=0.000000\n"
     ]
    }
   ],
   "source": [
    "print(f\"{sigma=:f}\")"
   ]
  },
  {
   "cell_type": "code",
   "execution_count": 20,
   "metadata": {},
   "outputs": [
    {
     "name": "stdout",
     "output_type": "stream",
     "text": [
      "sigma=0.00000005670374419000\n"
     ]
    }
   ],
   "source": [
    "print(f\"{sigma=:0.20f}\")"
   ]
  },
  {
   "cell_type": "code",
   "execution_count": 21,
   "metadata": {},
   "outputs": [
    {
     "name": "stdout",
     "output_type": "stream",
     "text": [
      "sigma=5.6704e-08\n"
     ]
    }
   ],
   "source": [
    "print(f\"{sigma=:1.4e}\")"
   ]
  },
  {
   "cell_type": "code",
   "execution_count": 22,
   "metadata": {},
   "outputs": [
    {
     "name": "stdout",
     "output_type": "stream",
     "text": [
      "a=43.000000\n"
     ]
    }
   ],
   "source": [
    "a = 43\n",
    "print(f\"{a=:f}\")"
   ]
  },
  {
   "cell_type": "code",
   "execution_count": 23,
   "metadata": {},
   "outputs": [
    {
     "name": "stdout",
     "output_type": "stream",
     "text": [
      "a=0043\n"
     ]
    }
   ],
   "source": [
    "a = 43\n",
    "print(f\"{a=:04d}\")"
   ]
  },
  {
   "cell_type": "markdown",
   "metadata": {},
   "source": [
    "## Use f-strings to Compose Structured File Paths/Names"
   ]
  },
  {
   "cell_type": "code",
   "execution_count": 24,
   "metadata": {},
   "outputs": [],
   "source": [
    "import datetime"
   ]
  },
  {
   "cell_type": "code",
   "execution_count": 25,
   "metadata": {},
   "outputs": [],
   "source": [
    "day = datetime.date(2020, 10, 19)"
   ]
  },
  {
   "cell_type": "code",
   "execution_count": 26,
   "metadata": {},
   "outputs": [
    {
     "name": "stdout",
     "output_type": "stream",
     "text": [
      "2020-10-19\n"
     ]
    }
   ],
   "source": [
    "print(day)"
   ]
  },
  {
   "cell_type": "code",
   "execution_count": 27,
   "metadata": {},
   "outputs": [
    {
     "name": "stdout",
     "output_type": "stream",
     "text": [
      "/results2/SalishSea/nowcast-green.201905/18oct20/SalishSea_1h_20201019_20201019_grid_T.nc\n"
     ]
    }
   ],
   "source": [
    "print(f\"/results2/SalishSea/nowcast-green.201905/18oct20/SalishSea_1h_{day:%Y%m%d}_{day:%Y%m%d}_grid_T.nc\")"
   ]
  },
  {
   "cell_type": "code",
   "execution_count": 28,
   "metadata": {},
   "outputs": [
    {
     "name": "stdout",
     "output_type": "stream",
     "text": [
      "/results2/SalishSea/nowcast-green.201905/19Oct20/SalishSea_1h_20201019_20201019_grid_T.nc\n"
     ]
    }
   ],
   "source": [
    "print(f\"/results2/SalishSea/nowcast-green.201905/{day:%d%b%y}/SalishSea_1h_{day:%Y%m%d}_{day:%Y%m%d}_grid_T.nc\")"
   ]
  },
  {
   "cell_type": "code",
   "execution_count": 30,
   "metadata": {},
   "outputs": [
    {
     "name": "stdout",
     "output_type": "stream",
     "text": [
      "/results2/SalishSea/nowcast-green.201905/19oct20/SalishSea_1h_20201019_20201019_grid_T.nc\n"
     ]
    }
   ],
   "source": [
    "ddmmmyy = f\"{day:%d%b%y}\".lower()\n",
    "print(f\"/results2/SalishSea/nowcast-green.201905/{ddmmmyy}/SalishSea_1h_{day:%Y%m%d}_{day:%Y%m%d}_grid_T.nc\")"
   ]
  },
  {
   "cell_type": "code",
   "execution_count": 31,
   "metadata": {},
   "outputs": [
    {
     "name": "stdout",
     "output_type": "stream",
     "text": [
      "/results2/SalishSea/nowcast-green.201905/01oct20/SalishSea_1h_20201001_20201001_grid_T.nc\n",
      "/results2/SalishSea/nowcast-green.201905/02oct20/SalishSea_1h_20201002_20201002_grid_T.nc\n",
      "/results2/SalishSea/nowcast-green.201905/03oct20/SalishSea_1h_20201003_20201003_grid_T.nc\n",
      "/results2/SalishSea/nowcast-green.201905/04oct20/SalishSea_1h_20201004_20201004_grid_T.nc\n",
      "/results2/SalishSea/nowcast-green.201905/05oct20/SalishSea_1h_20201005_20201005_grid_T.nc\n",
      "/results2/SalishSea/nowcast-green.201905/06oct20/SalishSea_1h_20201006_20201006_grid_T.nc\n",
      "/results2/SalishSea/nowcast-green.201905/07oct20/SalishSea_1h_20201007_20201007_grid_T.nc\n",
      "/results2/SalishSea/nowcast-green.201905/08oct20/SalishSea_1h_20201008_20201008_grid_T.nc\n",
      "/results2/SalishSea/nowcast-green.201905/09oct20/SalishSea_1h_20201009_20201009_grid_T.nc\n",
      "/results2/SalishSea/nowcast-green.201905/10oct20/SalishSea_1h_20201010_20201010_grid_T.nc\n"
     ]
    }
   ],
   "source": [
    "for day_num in range(1, 11):\n",
    "    day = datetime.date(2020, 10, day_num)\n",
    "    ddmmmyy = f\"{day:%d%b%y}\".lower()\n",
    "    grid_T_path = f\"/results2/SalishSea/nowcast-green.201905/{ddmmmyy}/SalishSea_1h_{day:%Y%m%d}_{day:%Y%m%d}_grid_T.nc\"\n",
    "    print(grid_T_path)"
   ]
  },
  {
   "cell_type": "markdown",
   "metadata": {},
   "source": [
    "If `xarray` were installed in this environment,\n",
    "we could use the path that we composed to open a dataset:"
   ]
  },
  {
   "cell_type": "code",
   "execution_count": null,
   "metadata": {},
   "outputs": [],
   "source": [
    "with xarray.open_dateset(grid_T_path) as grid_T:\n",
    "    print(grid_T.data_vars)"
   ]
  },
  {
   "cell_type": "markdown",
   "metadata": {},
   "source": [
    "Here is a use case for the older `.format()` method of combing text and variable values.\n",
    "We create a template string\n",
    "(`hrdps_url_tmpl` below; note that it is a plain string,\n",
    "not an f-string),\n",
    "and then use `.format()` to provide the values to sub in for each use of the template.\n",
    "Wxamples of where this is useful are:\n",
    "\n",
    "* when repeating a long f-string multiple times in a piece of code adds clutter,\n",
    "* when you want to store the template separately from the code in a configuration file"
   ]
  },
  {
   "cell_type": "code",
   "execution_count": null,
   "metadata": {},
   "outputs": [],
   "source": [
    "hrdps_url_tmpl = \"{hrdps_gribs}/{forecast}/{hr:03d}/CMC_hrdps_west_{var}_ps2.5km_{day:%y%m%d}{forecast}_P{hr:03d}-00.grib2\"\n",
    "print(\n",
    "    hrdps_url_tmpl.format(\n",
    "        hrdps_gribs=hrdps_gribs, forecast=forecast, hr=hr, var=var, day=day))"
   ]
  }
 ],
 "metadata": {
  "kernelspec": {
   "display_name": "Python 3",
   "language": "python",
   "name": "python3"
  },
  "language_info": {
   "codemirror_mode": {
    "name": "ipython",
    "version": 3
   },
   "file_extension": ".py",
   "mimetype": "text/x-python",
   "name": "python",
   "nbconvert_exporter": "python",
   "pygments_lexer": "ipython3",
   "version": "3.8.6"
  }
 },
 "nbformat": 4,
 "nbformat_minor": 4
}
